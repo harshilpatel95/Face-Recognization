{
 "cells": [
  {
   "cell_type": "code",
   "execution_count": 1,
   "metadata": {},
   "outputs": [
    {
     "name": "stderr",
     "output_type": "stream",
     "text": [
      "Using TensorFlow backend.\n"
     ]
    }
   ],
   "source": [
    "import pandas as pd\n",
    "import numpy as np\n",
    "import cv2\n",
    "from keras import optimizers\n",
    "from keras.layers import Dropout, Flatten, Dense, Convolution2D, MaxPooling2D\n",
    "from keras.preprocessing.image import ImageDataGenerator, array_to_img, img_to_array, load_img\n",
    "from keras.utils import np_utils\n",
    "import tensorflow as tf\n",
    "import matplotlib.pyplot as plt\n",
    "%matplotlib inline\n",
    "import matplotlib.image as img\n",
    "import seaborn as sns\n",
    "from keras.models import  Sequential,Model \n",
    "from sklearn.metrics import f1_score\n",
    "from IPython.core.display import display, HTML\n",
    "from PIL import Image\n",
    "from io import BytesIO\n",
    "import base64\n",
    "import tensorflow as tf\n",
    "plt.style.use('ggplot')"
   ]
  },
  {
   "cell_type": "code",
   "execution_count": 2,
   "metadata": {},
   "outputs": [],
   "source": [
    "IMG_WIDTH = 178\n",
    "IMG_HEIGHT = 218"
   ]
  },
  {
   "cell_type": "code",
   "execution_count": 3,
   "metadata": {},
   "outputs": [],
   "source": [
    "image_folder=\"/Users/Rj/celaba-datase/img_align_celeba/img_align_celeba/\"\n",
    "main=\"/Users/Rj/celaba-datase/\"\n",
    "ex_pic=image_folder + '000015.jpg'\n",
    "df_par=pd.DataFrame()"
   ]
  },
  {
   "cell_type": "code",
   "execution_count": 4,
   "metadata": {
    "scrolled": true
   },
   "outputs": [
    {
     "data": {
      "text/html": [
       "<div>\n",
       "<style scoped>\n",
       "    .dataframe tbody tr th:only-of-type {\n",
       "        vertical-align: middle;\n",
       "    }\n",
       "\n",
       "    .dataframe tbody tr th {\n",
       "        vertical-align: top;\n",
       "    }\n",
       "\n",
       "    .dataframe thead th {\n",
       "        text-align: right;\n",
       "    }\n",
       "</style>\n",
       "<table border=\"1\" class=\"dataframe\">\n",
       "  <thead>\n",
       "    <tr style=\"text-align: right;\">\n",
       "      <th></th>\n",
       "      <th>5_o_Clock_Shadow</th>\n",
       "      <th>Arched_Eyebrows</th>\n",
       "      <th>Attractive</th>\n",
       "      <th>Bags_Under_Eyes</th>\n",
       "      <th>Bald</th>\n",
       "      <th>Bangs</th>\n",
       "      <th>Big_Lips</th>\n",
       "      <th>Big_Nose</th>\n",
       "      <th>Black_Hair</th>\n",
       "      <th>Blond_Hair</th>\n",
       "      <th>...</th>\n",
       "      <th>Sideburns</th>\n",
       "      <th>Smiling</th>\n",
       "      <th>Straight_Hair</th>\n",
       "      <th>Wavy_Hair</th>\n",
       "      <th>Wearing_Earrings</th>\n",
       "      <th>Wearing_Hat</th>\n",
       "      <th>Wearing_Lipstick</th>\n",
       "      <th>Wearing_Necklace</th>\n",
       "      <th>Wearing_Necktie</th>\n",
       "      <th>Young</th>\n",
       "    </tr>\n",
       "    <tr>\n",
       "      <th>image_id</th>\n",
       "      <th></th>\n",
       "      <th></th>\n",
       "      <th></th>\n",
       "      <th></th>\n",
       "      <th></th>\n",
       "      <th></th>\n",
       "      <th></th>\n",
       "      <th></th>\n",
       "      <th></th>\n",
       "      <th></th>\n",
       "      <th></th>\n",
       "      <th></th>\n",
       "      <th></th>\n",
       "      <th></th>\n",
       "      <th></th>\n",
       "      <th></th>\n",
       "      <th></th>\n",
       "      <th></th>\n",
       "      <th></th>\n",
       "      <th></th>\n",
       "      <th></th>\n",
       "    </tr>\n",
       "  </thead>\n",
       "  <tbody>\n",
       "    <tr>\n",
       "      <th>000001.jpg</th>\n",
       "      <td>0</td>\n",
       "      <td>1</td>\n",
       "      <td>1</td>\n",
       "      <td>0</td>\n",
       "      <td>0</td>\n",
       "      <td>0</td>\n",
       "      <td>0</td>\n",
       "      <td>0</td>\n",
       "      <td>0</td>\n",
       "      <td>0</td>\n",
       "      <td>...</td>\n",
       "      <td>0</td>\n",
       "      <td>1</td>\n",
       "      <td>1</td>\n",
       "      <td>0</td>\n",
       "      <td>1</td>\n",
       "      <td>0</td>\n",
       "      <td>1</td>\n",
       "      <td>0</td>\n",
       "      <td>0</td>\n",
       "      <td>1</td>\n",
       "    </tr>\n",
       "    <tr>\n",
       "      <th>000002.jpg</th>\n",
       "      <td>0</td>\n",
       "      <td>0</td>\n",
       "      <td>0</td>\n",
       "      <td>1</td>\n",
       "      <td>0</td>\n",
       "      <td>0</td>\n",
       "      <td>0</td>\n",
       "      <td>1</td>\n",
       "      <td>0</td>\n",
       "      <td>0</td>\n",
       "      <td>...</td>\n",
       "      <td>0</td>\n",
       "      <td>1</td>\n",
       "      <td>0</td>\n",
       "      <td>0</td>\n",
       "      <td>0</td>\n",
       "      <td>0</td>\n",
       "      <td>0</td>\n",
       "      <td>0</td>\n",
       "      <td>0</td>\n",
       "      <td>1</td>\n",
       "    </tr>\n",
       "    <tr>\n",
       "      <th>000003.jpg</th>\n",
       "      <td>0</td>\n",
       "      <td>0</td>\n",
       "      <td>0</td>\n",
       "      <td>0</td>\n",
       "      <td>0</td>\n",
       "      <td>0</td>\n",
       "      <td>1</td>\n",
       "      <td>0</td>\n",
       "      <td>0</td>\n",
       "      <td>0</td>\n",
       "      <td>...</td>\n",
       "      <td>0</td>\n",
       "      <td>0</td>\n",
       "      <td>0</td>\n",
       "      <td>1</td>\n",
       "      <td>0</td>\n",
       "      <td>0</td>\n",
       "      <td>0</td>\n",
       "      <td>0</td>\n",
       "      <td>0</td>\n",
       "      <td>1</td>\n",
       "    </tr>\n",
       "    <tr>\n",
       "      <th>000004.jpg</th>\n",
       "      <td>0</td>\n",
       "      <td>0</td>\n",
       "      <td>1</td>\n",
       "      <td>0</td>\n",
       "      <td>0</td>\n",
       "      <td>0</td>\n",
       "      <td>0</td>\n",
       "      <td>0</td>\n",
       "      <td>0</td>\n",
       "      <td>0</td>\n",
       "      <td>...</td>\n",
       "      <td>0</td>\n",
       "      <td>0</td>\n",
       "      <td>1</td>\n",
       "      <td>0</td>\n",
       "      <td>1</td>\n",
       "      <td>0</td>\n",
       "      <td>1</td>\n",
       "      <td>1</td>\n",
       "      <td>0</td>\n",
       "      <td>1</td>\n",
       "    </tr>\n",
       "    <tr>\n",
       "      <th>000005.jpg</th>\n",
       "      <td>0</td>\n",
       "      <td>1</td>\n",
       "      <td>1</td>\n",
       "      <td>0</td>\n",
       "      <td>0</td>\n",
       "      <td>0</td>\n",
       "      <td>1</td>\n",
       "      <td>0</td>\n",
       "      <td>0</td>\n",
       "      <td>0</td>\n",
       "      <td>...</td>\n",
       "      <td>0</td>\n",
       "      <td>0</td>\n",
       "      <td>0</td>\n",
       "      <td>0</td>\n",
       "      <td>0</td>\n",
       "      <td>0</td>\n",
       "      <td>1</td>\n",
       "      <td>0</td>\n",
       "      <td>0</td>\n",
       "      <td>1</td>\n",
       "    </tr>\n",
       "  </tbody>\n",
       "</table>\n",
       "<p>5 rows × 40 columns</p>\n",
       "</div>"
      ],
      "text/plain": [
       "            5_o_Clock_Shadow  Arched_Eyebrows  Attractive  Bags_Under_Eyes  \\\n",
       "image_id                                                                     \n",
       "000001.jpg                 0                1           1                0   \n",
       "000002.jpg                 0                0           0                1   \n",
       "000003.jpg                 0                0           0                0   \n",
       "000004.jpg                 0                0           1                0   \n",
       "000005.jpg                 0                1           1                0   \n",
       "\n",
       "            Bald  Bangs  Big_Lips  Big_Nose  Black_Hair  Blond_Hair  ...  \\\n",
       "image_id                                                             ...   \n",
       "000001.jpg     0      0         0         0           0           0  ...   \n",
       "000002.jpg     0      0         0         1           0           0  ...   \n",
       "000003.jpg     0      0         1         0           0           0  ...   \n",
       "000004.jpg     0      0         0         0           0           0  ...   \n",
       "000005.jpg     0      0         1         0           0           0  ...   \n",
       "\n",
       "            Sideburns  Smiling  Straight_Hair  Wavy_Hair  Wearing_Earrings  \\\n",
       "image_id                                                                     \n",
       "000001.jpg          0        1              1          0                 1   \n",
       "000002.jpg          0        1              0          0                 0   \n",
       "000003.jpg          0        0              0          1                 0   \n",
       "000004.jpg          0        0              1          0                 1   \n",
       "000005.jpg          0        0              0          0                 0   \n",
       "\n",
       "            Wearing_Hat  Wearing_Lipstick  Wearing_Necklace  Wearing_Necktie  \\\n",
       "image_id                                                                       \n",
       "000001.jpg            0                 1                 0                0   \n",
       "000002.jpg            0                 0                 0                0   \n",
       "000003.jpg            0                 0                 0                0   \n",
       "000004.jpg            0                 1                 1                0   \n",
       "000005.jpg            0                 1                 0                0   \n",
       "\n",
       "            Young  \n",
       "image_id           \n",
       "000001.jpg      1  \n",
       "000002.jpg      1  \n",
       "000003.jpg      1  \n",
       "000004.jpg      1  \n",
       "000005.jpg      1  \n",
       "\n",
       "[5 rows x 40 columns]"
      ]
     },
     "execution_count": 4,
     "metadata": {},
     "output_type": "execute_result"
    }
   ],
   "source": [
    "df=pd.read_csv(\"/Users/Rj/celaba-datase/list_attr_celeba.csv\")\n",
    "df.replace(to_replace=-1,value=0,inplace=True)\n",
    "df.set_index('image_id',inplace=True)\n",
    "df.head()"
   ]
  },
  {
   "cell_type": "code",
   "execution_count": 5,
   "metadata": {},
   "outputs": [
    {
     "data": {
      "text/plain": [
       "Index(['5_o_Clock_Shadow', 'Arched_Eyebrows', 'Attractive', 'Bags_Under_Eyes',\n",
       "       'Bald', 'Bangs', 'Big_Lips', 'Big_Nose', 'Black_Hair', 'Blond_Hair',\n",
       "       'Blurry', 'Brown_Hair', 'Bushy_Eyebrows', 'Chubby', 'Double_Chin',\n",
       "       'Eyeglasses', 'Goatee', 'Gray_Hair', 'Heavy_Makeup', 'High_Cheekbones',\n",
       "       'Male', 'Mouth_Slightly_Open', 'Mustache', 'Narrow_Eyes', 'No_Beard',\n",
       "       'Oval_Face', 'Pale_Skin', 'Pointy_Nose', 'Receding_Hairline',\n",
       "       'Rosy_Cheeks', 'Sideburns', 'Smiling', 'Straight_Hair', 'Wavy_Hair',\n",
       "       'Wearing_Earrings', 'Wearing_Hat', 'Wearing_Lipstick',\n",
       "       'Wearing_Necklace', 'Wearing_Necktie', 'Young'],\n",
       "      dtype='object')"
      ]
     },
     "execution_count": 5,
     "metadata": {},
     "output_type": "execute_result"
    }
   ],
   "source": [
    "df.columns"
   ]
  },
  {
   "cell_type": "code",
   "execution_count": 6,
   "metadata": {},
   "outputs": [
    {
     "data": {
      "text/html": [
       "<div>\n",
       "<style scoped>\n",
       "    .dataframe tbody tr th:only-of-type {\n",
       "        vertical-align: middle;\n",
       "    }\n",
       "\n",
       "    .dataframe tbody tr th {\n",
       "        vertical-align: top;\n",
       "    }\n",
       "\n",
       "    .dataframe thead th {\n",
       "        text-align: right;\n",
       "    }\n",
       "</style>\n",
       "<table border=\"1\" class=\"dataframe\">\n",
       "  <thead>\n",
       "    <tr style=\"text-align: right;\">\n",
       "      <th></th>\n",
       "      <th>image_id</th>\n",
       "      <th>partition</th>\n",
       "    </tr>\n",
       "  </thead>\n",
       "  <tbody>\n",
       "    <tr>\n",
       "      <th>0</th>\n",
       "      <td>000001.jpg</td>\n",
       "      <td>0</td>\n",
       "    </tr>\n",
       "    <tr>\n",
       "      <th>1</th>\n",
       "      <td>000002.jpg</td>\n",
       "      <td>0</td>\n",
       "    </tr>\n",
       "    <tr>\n",
       "      <th>2</th>\n",
       "      <td>000003.jpg</td>\n",
       "      <td>0</td>\n",
       "    </tr>\n",
       "    <tr>\n",
       "      <th>3</th>\n",
       "      <td>000004.jpg</td>\n",
       "      <td>0</td>\n",
       "    </tr>\n",
       "    <tr>\n",
       "      <th>4</th>\n",
       "      <td>000005.jpg</td>\n",
       "      <td>0</td>\n",
       "    </tr>\n",
       "  </tbody>\n",
       "</table>\n",
       "</div>"
      ],
      "text/plain": [
       "     image_id  partition\n",
       "0  000001.jpg          0\n",
       "1  000002.jpg          0\n",
       "2  000003.jpg          0\n",
       "3  000004.jpg          0\n",
       "4  000005.jpg          0"
      ]
     },
     "execution_count": 6,
     "metadata": {},
     "output_type": "execute_result"
    }
   ],
   "source": [
    "df_partition=pd.read_csv(main+'list_eval_partition.csv')\n",
    "df_partition.replace(to_replace=-1,value=0,inplace=True)\n",
    "df_partition.head()"
   ]
  },
  {
   "cell_type": "code",
   "execution_count": 7,
   "metadata": {},
   "outputs": [
    {
     "data": {
      "text/plain": [
       "0    162770\n",
       "1     19867\n",
       "2     19962\n",
       "Name: partition, dtype: int64"
      ]
     },
     "execution_count": 7,
     "metadata": {},
     "output_type": "execute_result"
    }
   ],
   "source": [
    "df_partition['partition'].value_counts().sort_index()\n",
    "# 0=Training\n",
    "# 1=Validation\n",
    "# 2=Testing"
   ]
  },
  {
   "cell_type": "code",
   "execution_count": 8,
   "metadata": {},
   "outputs": [
    {
     "data": {
      "text/plain": [
       "Brown_Hair       0\n",
       "Blond_Hair       0\n",
       "Black_Hair       0\n",
       "Gray_Hair        0\n",
       "Young            0\n",
       "Straight_Hair    1\n",
       "Wavy_Hair        0\n",
       "Name: 000015.jpg, dtype: int64"
      ]
     },
     "execution_count": 8,
     "metadata": {},
     "output_type": "execute_result"
    },
    {
     "data": {
      "image/png": "[encoded data removed]",
      "text/plain": [
       "<Figure size 432x288 with 1 Axes>"
      ]
     },
     "metadata": {},
     "output_type": "display_data"
    }
   ],
   "source": [
    "image=load_img(ex_pic)\n",
    "plt.grid(False)\n",
    "plt.imshow(image)\n",
    "df.loc[ex_pic.split('/')[-1]][['Brown_Hair','Blond_Hair','Black_Hair','Gray_Hair','Young','Straight_Hair','Wavy_Hair']]"
   ]
  },
  {
   "cell_type": "code",
   "execution_count": 9,
   "metadata": {},
   "outputs": [
    {
     "data": {
      "image/png": "[encoded data removed]",
      "text/plain": [
       "<Figure size 432x288 with 1 Axes>"
      ]
     },
     "metadata": {},
     "output_type": "display_data"
    }
   ],
   "source": [
    "plt.title('Female or Male')\n",
    "sns.countplot(x='Male',data=df,color='r')\n",
    "plt.show()"
   ]
  },
  {
   "cell_type": "code",
   "execution_count": 10,
   "metadata": {},
   "outputs": [],
   "source": [
    "df_partition.set_index('image_id',inplace=True)\n",
    "df_par0=df_partition.join(df['Male'],how='inner')"
   ]
  },
  {
   "cell_type": "code",
   "execution_count": 11,
   "metadata": {},
   "outputs": [],
   "source": [
    "df_par1=df['Straight_Hair']"
   ]
  },
  {
   "cell_type": "code",
   "execution_count": 12,
   "metadata": {},
   "outputs": [
    {
     "data": {
      "text/html": [
       "<div>\n",
       "<style scoped>\n",
       "    .dataframe tbody tr th:only-of-type {\n",
       "        vertical-align: middle;\n",
       "    }\n",
       "\n",
       "    .dataframe tbody tr th {\n",
       "        vertical-align: top;\n",
       "    }\n",
       "\n",
       "    .dataframe thead th {\n",
       "        text-align: right;\n",
       "    }\n",
       "</style>\n",
       "<table border=\"1\" class=\"dataframe\">\n",
       "  <thead>\n",
       "    <tr style=\"text-align: right;\">\n",
       "      <th></th>\n",
       "      <th>partition</th>\n",
       "      <th>Male</th>\n",
       "    </tr>\n",
       "    <tr>\n",
       "      <th>image_id</th>\n",
       "      <th></th>\n",
       "      <th></th>\n",
       "    </tr>\n",
       "  </thead>\n",
       "  <tbody>\n",
       "    <tr>\n",
       "      <th>000001.jpg</th>\n",
       "      <td>0</td>\n",
       "      <td>0</td>\n",
       "    </tr>\n",
       "    <tr>\n",
       "      <th>000002.jpg</th>\n",
       "      <td>0</td>\n",
       "      <td>0</td>\n",
       "    </tr>\n",
       "    <tr>\n",
       "      <th>000003.jpg</th>\n",
       "      <td>0</td>\n",
       "      <td>1</td>\n",
       "    </tr>\n",
       "    <tr>\n",
       "      <th>000004.jpg</th>\n",
       "      <td>0</td>\n",
       "      <td>0</td>\n",
       "    </tr>\n",
       "    <tr>\n",
       "      <th>000005.jpg</th>\n",
       "      <td>0</td>\n",
       "      <td>0</td>\n",
       "    </tr>\n",
       "  </tbody>\n",
       "</table>\n",
       "</div>"
      ],
      "text/plain": [
       "            partition  Male\n",
       "image_id                   \n",
       "000001.jpg          0     0\n",
       "000002.jpg          0     0\n",
       "000003.jpg          0     1\n",
       "000004.jpg          0     0\n",
       "000005.jpg          0     0"
      ]
     },
     "execution_count": 12,
     "metadata": {},
     "output_type": "execute_result"
    }
   ],
   "source": [
    "df_par0.head()"
   ]
  },
  {
   "cell_type": "code",
   "execution_count": 13,
   "metadata": {},
   "outputs": [
    {
     "data": {
      "text/plain": [
       "image_id\n",
       "000001.jpg    1\n",
       "000002.jpg    0\n",
       "000003.jpg    0\n",
       "000004.jpg    1\n",
       "000005.jpg    0\n",
       "Name: Straight_Hair, dtype: int64"
      ]
     },
     "execution_count": 13,
     "metadata": {},
     "output_type": "execute_result"
    }
   ],
   "source": [
    "df_par1.head()"
   ]
  },
  {
   "cell_type": "code",
   "execution_count": 14,
   "metadata": {},
   "outputs": [],
   "source": [
    "df_par=pd.concat([df_par0,df_par1],axis=1)"
   ]
  },
  {
   "cell_type": "code",
   "execution_count": 15,
   "metadata": {},
   "outputs": [
    {
     "data": {
      "text/html": [
       "<div>\n",
       "<style scoped>\n",
       "    .dataframe tbody tr th:only-of-type {\n",
       "        vertical-align: middle;\n",
       "    }\n",
       "\n",
       "    .dataframe tbody tr th {\n",
       "        vertical-align: top;\n",
       "    }\n",
       "\n",
       "    .dataframe thead th {\n",
       "        text-align: right;\n",
       "    }\n",
       "</style>\n",
       "<table border=\"1\" class=\"dataframe\">\n",
       "  <thead>\n",
       "    <tr style=\"text-align: right;\">\n",
       "      <th></th>\n",
       "      <th>partition</th>\n",
       "      <th>Male</th>\n",
       "      <th>Straight_Hair</th>\n",
       "    </tr>\n",
       "    <tr>\n",
       "      <th>image_id</th>\n",
       "      <th></th>\n",
       "      <th></th>\n",
       "      <th></th>\n",
       "    </tr>\n",
       "  </thead>\n",
       "  <tbody>\n",
       "    <tr>\n",
       "      <th>000001.jpg</th>\n",
       "      <td>0</td>\n",
       "      <td>0</td>\n",
       "      <td>1</td>\n",
       "    </tr>\n",
       "    <tr>\n",
       "      <th>000002.jpg</th>\n",
       "      <td>0</td>\n",
       "      <td>0</td>\n",
       "      <td>0</td>\n",
       "    </tr>\n",
       "    <tr>\n",
       "      <th>000003.jpg</th>\n",
       "      <td>0</td>\n",
       "      <td>1</td>\n",
       "      <td>0</td>\n",
       "    </tr>\n",
       "    <tr>\n",
       "      <th>000004.jpg</th>\n",
       "      <td>0</td>\n",
       "      <td>0</td>\n",
       "      <td>1</td>\n",
       "    </tr>\n",
       "    <tr>\n",
       "      <th>000005.jpg</th>\n",
       "      <td>0</td>\n",
       "      <td>0</td>\n",
       "      <td>0</td>\n",
       "    </tr>\n",
       "  </tbody>\n",
       "</table>\n",
       "</div>"
      ],
      "text/plain": [
       "            partition  Male  Straight_Hair\n",
       "image_id                                  \n",
       "000001.jpg          0     0              1\n",
       "000002.jpg          0     0              0\n",
       "000003.jpg          0     1              0\n",
       "000004.jpg          0     0              1\n",
       "000005.jpg          0     0              0"
      ]
     },
     "execution_count": 15,
     "metadata": {},
     "output_type": "execute_result"
    }
   ],
   "source": [
    "df_par.head()"
   ]
  },
  {
   "cell_type": "code",
   "execution_count": 16,
   "metadata": {},
   "outputs": [],
   "source": [
    "def reshape(name):\n",
    "    image=load_img(name)\n",
    "    i=img_to_array(image)/255\n",
    "    i=i.reshape((1,)+i.shape)\n",
    "    return i"
   ]
  },
  {
   "cell_type": "code",
   "execution_count": 17,
   "metadata": {},
   "outputs": [],
   "source": [
    "def generate_df(partition,attribute,number_sample):\n",
    "    \n",
    "    dfx=df_par[ (df_par['partition']==partition ) & (df_par[attribute]==0)].sample(int(number_sample/2))\n",
    "    dfx=pd.concat( [dfx,df_par[ (df_par['partition']==partition)&( df_par[attribute]==1)].sample(int(number_sample/2))])\n",
    "\n",
    "    if partition==2:\n",
    "        x=[]\n",
    "        y=[]\n",
    "        for index, target in dfx.iterrows():\n",
    "            im=cv2.imread(image_folder+index)\n",
    "            im=cv2.resize(cv2.cvtColor(im,cv2.COLOR_BGR2RGB),(IMG_WIDTH,IMG_HEIGHT)).astype(np.float32)/255.0\n",
    "            im=np.expand_dims(im,axis=0)\n",
    "            x.append(im)\n",
    "            y.append(target[attribute])\n",
    "    else:\n",
    "            x=np.array([reshape(image_folder+name)for name in dfx.index])\n",
    "            x=x.reshape(x.shape[0],218,178,3)\n",
    "            y=np_utils.to_categorical(dfx[attribute],2)\n",
    "    return x,y"
   ]
  },
  {
   "cell_type": "code",
   "execution_count": 18,
   "metadata": {},
   "outputs": [],
   "source": [
    "X_train,y_train=generate_df(0,'Male',15000)\n",
    "\n",
    "train_pre=ImageDataGenerator( featurewise_center=True,\n",
    "    featurewise_std_normalization=True,rotation_range=30,width_shift_range=0.2,\n",
    "                           height_shift_range=0.2,shear_range=0.2,zoom_range=0.2,horizontal_flip=True)\n",
    "train_pre.fit(X_train)\n",
    "train_pre=train_pre.flow(X_train,y_train,32)"
   ]
  },
  {
   "cell_type": "code",
   "execution_count": 19,
   "metadata": {},
   "outputs": [],
   "source": [
    "from sklearn.model_selection import train_test_split\n",
    "label=df_par['partition']\n",
    "feat=['Male','Straight_Hair']\n",
    "df_feat=df_par[feat]\n",
    "x_train,x_test,Y_train,Y_test=train_test_split(df_feat,label,test_size=.10,random_state=40)"
   ]
  },
  {
   "cell_type": "code",
   "execution_count": 20,
   "metadata": {},
   "outputs": [
    {
     "name": "stdout",
     "output_type": "stream",
     "text": [
      "(None, 216, 176, 32)\n"
     ]
    }
   ],
   "source": [
    "model=Sequential()\n",
    "model.add(Convolution2D(32,(3,3), activation='relu', data_format=\"channels_last\", input_shape=(218,178,3)))\n",
    "print(model.output_shape)"
   ]
  },
  {
   "cell_type": "code",
   "execution_count": 21,
   "metadata": {},
   "outputs": [
    {
     "name": "stdout",
     "output_type": "stream",
     "text": [
      "(None, 214, 174, 32)\n",
      "(None, 107, 87, 32)\n"
     ]
    }
   ],
   "source": [
    "model.add(Convolution2D(32, (3,3), activation='relu'))\n",
    "print(model.output_shape)\n",
    "\n",
    "model.add(MaxPooling2D(pool_size=(2,2)))\n",
    "print(model.output_shape)\n",
    "          \n",
    "model.add(Dropout(0.25))"
   ]
  },
  {
   "cell_type": "code",
   "execution_count": 22,
   "metadata": {},
   "outputs": [
    {
     "name": "stdout",
     "output_type": "stream",
     "text": [
      "(None, 297888)\n",
      "(None, 120)\n",
      "(None, 2)\n"
     ]
    }
   ],
   "source": [
    "model.add(Flatten())\n",
    "print(model.output_shape)\n",
    "\n",
    "model.add(Dense(120, activation='relu'))\n",
    "print(model.output_shape)\n",
    "\n",
    "model.add(Dropout(0.5))\n",
    "model.add(Dense(2, activation='softmax'))\n",
    "print(model.output_shape)"
   ]
  },
  {
   "cell_type": "code",
   "execution_count": 23,
   "metadata": {
    "scrolled": true
   },
   "outputs": [
    {
     "name": "stdout",
     "output_type": "stream",
     "text": [
      "Model: \"sequential_1\"\n",
      "_________________________________________________________________\n",
      "Layer (type)                 Output Shape              Param #   \n",
      "=================================================================\n",
      "conv2d_1 (Conv2D)            (None, 216, 176, 32)      896       \n",
      "_________________________________________________________________\n",
      "conv2d_2 (Conv2D)            (None, 214, 174, 32)      9248      \n",
      "_________________________________________________________________\n",
      "max_pooling2d_1 (MaxPooling2 (None, 107, 87, 32)       0         \n",
      "_________________________________________________________________\n",
      "dropout_1 (Dropout)          (None, 107, 87, 32)       0         \n",
      "_________________________________________________________________\n",
      "flatten_1 (Flatten)          (None, 297888)            0         \n",
      "_________________________________________________________________\n",
      "dense_1 (Dense)              (None, 120)               35746680  \n",
      "_________________________________________________________________\n",
      "dropout_2 (Dropout)          (None, 120)               0         \n",
      "_________________________________________________________________\n",
      "dense_2 (Dense)              (None, 2)                 242       \n",
      "=================================================================\n",
      "Total params: 35,757,066\n",
      "Trainable params: 35,757,066\n",
      "Non-trainable params: 0\n",
      "_________________________________________________________________\n",
      "None\n"
     ]
    }
   ],
   "source": [
    "model.compile(loss='categorical_crossentropy',metrics=['accuracy'], optimizer='adam')\n",
    "print(model.summary())"
   ]
  },
  {
   "cell_type": "code",
   "execution_count": 24,
   "metadata": {},
   "outputs": [
    {
     "data": {
      "text/plain": [
       "(15000, 218, 178, 3)"
      ]
     },
     "execution_count": 24,
     "metadata": {},
     "output_type": "execute_result"
    }
   ],
   "source": [
    "X_train.shape"
   ]
  },
  {
   "cell_type": "code",
   "execution_count": 25,
   "metadata": {},
   "outputs": [
    {
     "name": "stdout",
     "output_type": "stream",
     "text": [
      "[[1. 0.]\n",
      " [1. 0.]\n",
      " [1. 0.]\n",
      " ...\n",
      " [0. 1.]\n",
      " [0. 1.]\n",
      " [0. 1.]]\n",
      "[[1. 0.]\n",
      " [1. 0.]\n",
      " [1. 0.]\n",
      " ...\n",
      " [0. 1.]\n",
      " [0. 1.]\n",
      " [0. 1.]]\n",
      "[[1. 0.]\n",
      " [1. 0.]\n",
      " [1. 0.]\n",
      " ...\n",
      " [0. 1.]\n",
      " [0. 1.]\n",
      " [0. 1.]]\n",
      "[[1. 0.]\n",
      " [1. 0.]\n",
      " [1. 0.]\n",
      " ...\n",
      " [0. 1.]\n",
      " [0. 1.]\n",
      " [0. 1.]]\n",
      "[[1. 0.]\n",
      " [1. 0.]\n",
      " [1. 0.]\n",
      " ...\n",
      " [0. 1.]\n",
      " [0. 1.]\n",
      " [0. 1.]]\n",
      "[[1. 0.]\n",
      " [1. 0.]\n",
      " [1. 0.]\n",
      " ...\n",
      " [0. 1.]\n",
      " [0. 1.]\n",
      " [0. 1.]]\n",
      "[[1. 0.]\n",
      " [1. 0.]\n",
      " [1. 0.]\n",
      " ...\n",
      " [0. 1.]\n",
      " [0. 1.]\n",
      " [0. 1.]]\n",
      "[[1. 0.]\n",
      " [1. 0.]\n",
      " [1. 0.]\n",
      " ...\n",
      " [0. 1.]\n",
      " [0. 1.]\n",
      " [0. 1.]]\n",
      "[[1. 0.]\n",
      " [1. 0.]\n",
      " [1. 0.]\n",
      " ...\n",
      " [0. 1.]\n",
      " [0. 1.]\n",
      " [0. 1.]]\n",
      "[[1. 0.]\n",
      " [1. 0.]\n",
      " [1. 0.]\n",
      " ...\n",
      " [0. 1.]\n",
      " [0. 1.]\n",
      " [0. 1.]]\n"
     ]
    }
   ],
   "source": [
    "y_train.shape\n",
    "for i in range(0,10):\n",
    "    print(y_train)"
   ]
  },
  {
   "cell_type": "code",
   "execution_count": 26,
   "metadata": {},
   "outputs": [
    {
     "name": "stdout",
     "output_type": "stream",
     "text": [
      "Train on 11250 samples, validate on 3750 samples\n",
      "Epoch 1/5\n",
      "11250/11250 [==============================] - 1066s 95ms/step - loss: 0.4390 - accuracy: 0.8425 - val_loss: 0.4261 - val_accuracy: 0.8131\n",
      "Epoch 2/5\n",
      "11250/11250 [==============================] - 1044s 93ms/step - loss: 0.1907 - accuracy: 0.9236 - val_loss: 0.3597 - val_accuracy: 0.8496\n",
      "Epoch 3/5\n",
      "11250/11250 [==============================] - 1159s 103ms/step - loss: 0.1239 - accuracy: 0.9517 - val_loss: 0.2150 - val_accuracy: 0.9101\n",
      "Epoch 4/5\n",
      "11250/11250 [==============================] - 1198s 106ms/step - loss: 0.0877 - accuracy: 0.9670 - val_loss: 0.3775 - val_accuracy: 0.8563\n",
      "Epoch 5/5\n",
      "11250/11250 [==============================] - 1014s 90ms/step - loss: 0.0597 - accuracy: 0.9787 - val_loss: 0.4232 - val_accuracy: 0.8677\n"
     ]
    }
   ],
   "source": [
    "from keras.callbacks import EarlyStopping\n",
    "early_stopping = EarlyStopping(monitor='val_loss', patience=2)\n",
    "fitted_model = model.fit(X_train, y_train, validation_split=0.25, batch_size=20, epochs=5, verbose=1)"
   ]
  },
  {
   "cell_type": "code",
   "execution_count": 34,
   "metadata": {
    "scrolled": true
   },
   "outputs": [
    {
     "data": {
      "image/png": "[encoded data removed]",
      "text/plain": [
       "<Figure size 1296x288 with 1 Axes>"
      ]
     },
     "metadata": {},
     "output_type": "display_data"
    },
    {
     "data": {
      "image/png": "[encoded data removed]",
      "text/plain": [
       "<Figure size 1296x288 with 1 Axes>"
      ]
     },
     "metadata": {},
     "output_type": "display_data"
    }
   ],
   "source": [
    "plt.figure(figsize=(18, 4))\n",
    "plt.plot(fitted_model.history['loss'], label = 'train')\n",
    "plt.plot(fitted_model.history['val_loss'], label = 'valid')\n",
    "plt.legend()\n",
    "plt.title('Loss Function')\n",
    "plt.show()\n",
    "\n",
    "plt.figure(figsize=(18, 4))\n",
    "plt.plot(fitted_model.history['accuracy'], label = 'train')\n",
    "plt.plot(fitted_model.history['val_accuracy'], label = 'valid')\n",
    "plt.legend()\n",
    "plt.title('Accuracy')\n",
    "plt.show()"
   ]
  },
  {
   "cell_type": "code",
   "execution_count": 27,
   "metadata": {},
   "outputs": [
    {
     "data": {
      "text/plain": [
       "(182339, 2)"
      ]
     },
     "execution_count": 27,
     "metadata": {},
     "output_type": "execute_result"
    }
   ],
   "source": [
    "x_train.shape"
   ]
  },
  {
   "cell_type": "code",
   "execution_count": 28,
   "metadata": {},
   "outputs": [
    {
     "name": "stdout",
     "output_type": "stream",
     "text": [
      "Model Evaluation\n",
      "Test accuracy: 90.8667%\n",
      "f1_score: 0.9060356652949246\n"
     ]
    }
   ],
   "source": [
    "# Test Data\n",
    "x_test, y_test = generate_df(2, 'Male', 3000)\n",
    "\n",
    "# generate prediction\n",
    "model_predictions = [np.argmax(model.predict(feature)) for feature in x_test ]\n",
    "\n",
    "# report test accuracy\n",
    "test_accuracy = 100 * np.sum(np.array(model_predictions)==y_test) / len(model_predictions)\n",
    "print('Model Evaluation')\n",
    "print('Test accuracy: %.4f%%' % test_accuracy)\n",
    "print('f1_score:', f1_score(y_test, model_predictions))"
   ]
  },
  {
   "cell_type": "code",
   "execution_count": 29,
   "metadata": {},
   "outputs": [],
   "source": [
    "#dictionary to name the prediction\n",
    "gender_target = {0: 'Female', 1: 'Male'}\n",
    "hair={0:'Wavy hair',1:'Straight Hair'}\n",
    "def img_to_display(filename):\n",
    "    # inspired on this kernel:\n",
    "    # https://www.kaggle.com/stassl/displaying-inline-images-in-pandas-dataframe\n",
    "    # credits to stassl :)\n",
    "    \n",
    "    i = Image.open(filename)\n",
    "    i.thumbnail((200, 200), Image.LANCZOS)\n",
    "    \n",
    "    with BytesIO() as buffer:\n",
    "        i.save(buffer, 'jpeg')\n",
    "        return base64.b64encode(buffer.getvalue()).decode()\n",
    "    \n",
    "\n",
    "def display_result(filename, prediction, target):\n",
    "\n",
    "    gender = 'Male'\n",
    "   \n",
    "    #gender_icon = \"https://i.imgur.com/nxWan2u.png\"\n",
    "        \n",
    "    if prediction[1] <= 0.5:\n",
    "      #  gender_icon = \"https://i.imgur.com/oAAb8rd.png\"\n",
    "        gender = 'Female'\n",
    "    \n",
    "    display_html = '''\n",
    "    <div style=\"overflow: auto;  border: 2px solid #D8D8D8;\n",
    "        padding: 5px; width: 420px;\" >\n",
    "        <img src=\"data:image/jpeg;base64,{}\" style=\"float: left;\" width=\"200\" height=\"200\">\n",
    "        <div style=\"padding: 10px 0px 0px 20px; overflow: auto;\">\n",
    "            \n",
    "            <h3 style=\"margin-left: 50px; margin-top: 2px;\">{}</h3>\n",
    "            <p style=\"margin-left: 50px; margin-top: 15px; font-size: 12px\">{} prob.</p>\n",
    "            <p style=\"margin-left: 50px; margin-top: 15px; font-size: 12px\">Real Target: {}</p>\n",
    "            <p style=\"margin-left: 50px; margin-top: 15px; font-size: 12px\">Filename: {}</p>\n",
    "        </div>\n",
    "    </div>\n",
    "    '''.format(img_to_display(filename)\n",
    "\n",
    "               , gender\n",
    "               , \"{0:.2f}%\".format(round(max(prediction)*100,2))\n",
    "               , gender_target[target]\n",
    "               , filename.split('/')[-1]\n",
    "               )\n",
    "\n",
    "    display(HTML(display_html))\n",
    "    "
   ]
  },
  {
   "cell_type": "code",
   "execution_count": 30,
   "metadata": {},
   "outputs": [],
   "source": [
    "def gender_prediction(filename):\n",
    "    \n",
    "    im = cv2.imread(filename)\n",
    "    im = cv2.resize(cv2.cvtColor(im, cv2.COLOR_BGR2RGB), (178, 218)).astype(np.float32) / 255.0\n",
    "    im = np.expand_dims(im, axis =0)\n",
    "    \n",
    "    # prediction\n",
    "    result = model.predict(im)\n",
    "    prediction = np.argmax(result)\n",
    "    \n",
    "    return result"
   ]
  },
  {
   "cell_type": "code",
   "execution_count": 31,
   "metadata": {},
   "outputs": [
    {
     "data": {
      "text/html": [
       "\n",
       "    <div style=\"overflow: auto;  border: 2px solid #D8D8D8;\n",
       "        padding: 5px; width: 420px;\" >\n",
       "        <img src=\"data:image/jpeg;base64,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\" style=\"float: left;\" width=\"200\" height=\"200\">\n",
       "        <div style=\"padding: 10px 0px 0px 20px; overflow: auto;\">\n",
       "            \n",
       "            <h3 style=\"margin-left: 50px; margin-top: 2px;\">Female</h3>\n",
       "            <p style=\"margin-left: 50px; margin-top: 15px; font-size: 12px\">100.00% prob.</p>\n",
       "            <p style=\"margin-left: 50px; margin-top: 15px; font-size: 12px\">Real Target: Female</p>\n",
       "            <p style=\"margin-left: 50px; margin-top: 15px; font-size: 12px\">Filename: 192612.jpg</p>\n",
       "        </div>\n",
       "    </div>\n",
       "    "
      ],
      "text/plain": [
       "<IPython.core.display.HTML object>"
      ]
     },
     "metadata": {},
     "output_type": "display_data"
    },
    {
     "data": {
      "text/html": [
       "\n",
       "    <div style=\"overflow: auto;  border: 2px solid #D8D8D8;\n",
       "        padding: 5px; width: 420px;\" >\n",
       "        <img src=\"data:image/jpeg;base64,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\" style=\"float: left;\" width=\"200\" height=\"200\">\n",
       "        <div style=\"padding: 10px 0px 0px 20px; overflow: auto;\">\n",
       "            \n",
       "            <h3 style=\"margin-left: 50px; margin-top: 2px;\">Female</h3>\n",
       "            <p style=\"margin-left: 50px; margin-top: 15px; font-size: 12px\">100.00% prob.</p>\n",
       "            <p style=\"margin-left: 50px; margin-top: 15px; font-size: 12px\">Real Target: Female</p>\n",
       "            <p style=\"margin-left: 50px; margin-top: 15px; font-size: 12px\">Filename: 183405.jpg</p>\n",
       "        </div>\n",
       "    </div>\n",
       "    "
      ],
      "text/plain": [
       "<IPython.core.display.HTML object>"
      ]
     },
     "metadata": {},
     "output_type": "display_data"
    },
    {
     "data": {
      "text/html": [
       "\n",
       "    <div style=\"overflow: auto;  border: 2px solid #D8D8D8;\n",
       "        padding: 5px; width: 420px;\" >\n",
       "        <img src=\"data:image/jpeg;base64,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\" style=\"float: left;\" width=\"200\" height=\"200\">\n",
       "        <div style=\"padding: 10px 0px 0px 20px; overflow: auto;\">\n",
       "            \n",
       "            <h3 style=\"margin-left: 50px; margin-top: 2px;\">Male</h3>\n",
       "            <p style=\"margin-left: 50px; margin-top: 15px; font-size: 12px\">97.46% prob.</p>\n",
       "            <p style=\"margin-left: 50px; margin-top: 15px; font-size: 12px\">Real Target: Female</p>\n",
       "            <p style=\"margin-left: 50px; margin-top: 15px; font-size: 12px\">Filename: 201609.jpg</p>\n",
       "        </div>\n",
       "    </div>\n",
       "    "
      ],
      "text/plain": [
       "<IPython.core.display.HTML object>"
      ]
     },
     "metadata": {},
     "output_type": "display_data"
    },
    {
     "data": {
      "text/html": [
       "\n",
       "    <div style=\"overflow: auto;  border: 2px solid #D8D8D8;\n",
       "        padding: 5px; width: 420px;\" >\n",
       "        <img src=\"data:image/jpeg;base64,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\" style=\"float: left;\" width=\"200\" height=\"200\">\n",
       "        <div style=\"padding: 10px 0px 0px 20px; overflow: auto;\">\n",
       "            \n",
       "            <h3 style=\"margin-left: 50px; margin-top: 2px;\">Male</h3>\n",
       "            <p style=\"margin-left: 50px; margin-top: 15px; font-size: 12px\">55.57% prob.</p>\n",
       "            <p style=\"margin-left: 50px; margin-top: 15px; font-size: 12px\">Real Target: Male</p>\n",
       "            <p style=\"margin-left: 50px; margin-top: 15px; font-size: 12px\">Filename: 188196.jpg</p>\n",
       "        </div>\n",
       "    </div>\n",
       "    "
      ],
      "text/plain": [
       "<IPython.core.display.HTML object>"
      ]
     },
     "metadata": {},
     "output_type": "display_data"
    },
    {
     "data": {
      "text/html": [
       "\n",
       "    <div style=\"overflow: auto;  border: 2px solid #D8D8D8;\n",
       "        padding: 5px; width: 420px;\" >\n",
       "        <img src=\"data:image/jpeg;base64,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\" style=\"float: left;\" width=\"200\" height=\"200\">\n",
       "        <div style=\"padding: 10px 0px 0px 20px; overflow: auto;\">\n",
       "            \n",
       "            <h3 style=\"margin-left: 50px; margin-top: 2px;\">Female</h3>\n",
       "            <p style=\"margin-left: 50px; margin-top: 15px; font-size: 12px\">59.39% prob.</p>\n",
       "            <p style=\"margin-left: 50px; margin-top: 15px; font-size: 12px\">Real Target: Male</p>\n",
       "            <p style=\"margin-left: 50px; margin-top: 15px; font-size: 12px\">Filename: 188563.jpg</p>\n",
       "        </div>\n",
       "    </div>\n",
       "    "
      ],
      "text/plain": [
       "<IPython.core.display.HTML object>"
      ]
     },
     "metadata": {},
     "output_type": "display_data"
    },
    {
     "data": {
      "text/html": [
       "\n",
       "    <div style=\"overflow: auto;  border: 2px solid #D8D8D8;\n",
       "        padding: 5px; width: 420px;\" >\n",
       "        <img src=\"data:image/jpeg;base64,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\" style=\"float: left;\" width=\"200\" height=\"200\">\n",
       "        <div style=\"padding: 10px 0px 0px 20px; overflow: auto;\">\n",
       "            \n",
       "            <h3 style=\"margin-left: 50px; margin-top: 2px;\">Female</h3>\n",
       "            <p style=\"margin-left: 50px; margin-top: 15px; font-size: 12px\">66.37% prob.</p>\n",
       "            <p style=\"margin-left: 50px; margin-top: 15px; font-size: 12px\">Real Target: Female</p>\n",
       "            <p style=\"margin-left: 50px; margin-top: 15px; font-size: 12px\">Filename: 186308.jpg</p>\n",
       "        </div>\n",
       "    </div>\n",
       "    "
      ],
      "text/plain": [
       "<IPython.core.display.HTML object>"
      ]
     },
     "metadata": {},
     "output_type": "display_data"
    },
    {
     "data": {
      "text/html": [
       "\n",
       "    <div style=\"overflow: auto;  border: 2px solid #D8D8D8;\n",
       "        padding: 5px; width: 420px;\" >\n",
       "        <img src=\"data:image/jpeg;base64,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\" style=\"float: left;\" width=\"200\" height=\"200\">\n",
       "        <div style=\"padding: 10px 0px 0px 20px; overflow: auto;\">\n",
       "            \n",
       "            <h3 style=\"margin-left: 50px; margin-top: 2px;\">Female</h3>\n",
       "            <p style=\"margin-left: 50px; margin-top: 15px; font-size: 12px\">100.00% prob.</p>\n",
       "            <p style=\"margin-left: 50px; margin-top: 15px; font-size: 12px\">Real Target: Female</p>\n",
       "            <p style=\"margin-left: 50px; margin-top: 15px; font-size: 12px\">Filename: 188214.jpg</p>\n",
       "        </div>\n",
       "    </div>\n",
       "    "
      ],
      "text/plain": [
       "<IPython.core.display.HTML object>"
      ]
     },
     "metadata": {},
     "output_type": "display_data"
    },
    {
     "data": {
      "text/html": [
       "\n",
       "    <div style=\"overflow: auto;  border: 2px solid #D8D8D8;\n",
       "        padding: 5px; width: 420px;\" >\n",
       "        <img src=\"data:image/jpeg;base64,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\" style=\"float: left;\" width=\"200\" height=\"200\">\n",
       "        <div style=\"padding: 10px 0px 0px 20px; overflow: auto;\">\n",
       "            \n",
       "            <h3 style=\"margin-left: 50px; margin-top: 2px;\">Male</h3>\n",
       "            <p style=\"margin-left: 50px; margin-top: 15px; font-size: 12px\">100.00% prob.</p>\n",
       "            <p style=\"margin-left: 50px; margin-top: 15px; font-size: 12px\">Real Target: Male</p>\n",
       "            <p style=\"margin-left: 50px; margin-top: 15px; font-size: 12px\">Filename: 185180.jpg</p>\n",
       "        </div>\n",
       "    </div>\n",
       "    "
      ],
      "text/plain": [
       "<IPython.core.display.HTML object>"
      ]
     },
     "metadata": {},
     "output_type": "display_data"
    }
   ],
   "source": [
    "#select random images of the test partition\n",
    "df_to_test = df_par[(df_par['partition'] == 2)].sample(8)\n",
    "\n",
    "for index, target in df_to_test.iterrows():\n",
    "    result = gender_prediction(image_folder + index)\n",
    "    \n",
    "    #display result\n",
    "    display_result(image_folder + index, result[0], target['Male'])"
   ]
  },
  {
   "cell_type": "code",
   "execution_count": null,
   "metadata": {},
   "outputs": [],
   "source": []
  },
  {
   "cell_type": "code",
   "execution_count": null,
   "metadata": {},
   "outputs": [],
   "source": []
  },
  {
   "cell_type": "code",
   "execution_count": null,
   "metadata": {},
   "outputs": [],
   "source": []
  }
 ],
 "metadata": {
  "kernelspec": {
   "display_name": "Python 3",
   "language": "python",
   "name": "python3"
  },
  "language_info": {
   "codemirror_mode": {
    "name": "ipython",
    "version": 3
   },
   "file_extension": ".py",
   "mimetype": "text/x-python",
   "name": "python",
   "nbconvert_exporter": "python",
   "pygments_lexer": "ipython3",
   "version": "3.7.6"
  }
 },
 "nbformat": 4,
 "nbformat_minor": 2
}
